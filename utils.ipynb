{
 "cells": [
  {
   "cell_type": "markdown",
   "metadata": {},
   "source": [
    "# Utils function"
   ]
  },
  {
   "cell_type": "code",
   "execution_count": 1,
   "metadata": {},
   "outputs": [],
   "source": [
    "def describe_data():\n",
    "  import matplotlib.pyplot as plt\n",
    "  import numpy as np\n",
    "  import os\n",
    "  train_path = './dataset/20train'\n",
    "  test_path = './dataset/20test'\n",
    "  valid_path = './dataset/20valid'\n",
    "  nr_birds = 20\n",
    "\n",
    "  classes = np.array(list(sorted(os.listdir(train_path))))\n",
    "  values = []\n",
    "  # loop thru all the classes\n",
    "  for i in range(len(classes)):\n",
    "    _, _, files = next(os.walk(train_path + '/' + classes[i]))\n",
    "    file_count = len(files) \n",
    "    values.append(file_count)\n",
    "\n",
    "\n",
    "  plt.figure(figsize=(55, 5), facecolor='w')\n",
    "  plt.bar(classes,values)\n",
    "  plt.savefig('./diagrams/data_description.png', dpi=300)\n",
    "  plt.savefig('./diagrams/data_description.svg', dpi=300)\n",
    "  plt.savefig('./diagrams/data_description.pdf', dpi=300)\n",
    "  plt.show()"
   ]
  }
 ],
 "metadata": {
  "kernelspec": {
   "display_name": "Python 3.9.10 ('base')",
   "language": "python",
   "name": "python3"
  },
  "language_info": {
   "codemirror_mode": {
    "name": "ipython",
    "version": 3
   },
   "file_extension": ".py",
   "mimetype": "text/x-python",
   "name": "python",
   "nbconvert_exporter": "python",
   "pygments_lexer": "ipython3",
   "version": "3.9.10 | packaged by conda-forge | (main, Feb  1 2022, 21:27:43) \n[Clang 11.1.0 ]"
  },
  "orig_nbformat": 4,
  "vscode": {
   "interpreter": {
    "hash": "f50f518e30a1733e8e8c8b608de131219c9974acb0d02ce13c65eb2a815a608c"
   }
  }
 },
 "nbformat": 4,
 "nbformat_minor": 2
}
