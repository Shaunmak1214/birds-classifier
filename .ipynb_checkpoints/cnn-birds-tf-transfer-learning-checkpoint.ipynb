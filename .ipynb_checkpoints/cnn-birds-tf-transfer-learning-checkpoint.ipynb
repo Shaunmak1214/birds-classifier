{
 "cells": [
  {
   "cell_type": "markdown",
   "metadata": {},
   "source": [
    "# Birds Classifications"
   ]
  },
  {
   "cell_type": "markdown",
   "metadata": {},
   "source": [
    "## Definition of Transfer Learning\n",
    "\n",
    "Transfer learning (TL) is a research problem in machine learning (ML) that focuses on storing knowledge gained while solving one problem and applying it to a different but related problem. For example, knowledge gained while learning to recognize cars could apply when trying to recognize trucks. This area of research bears some relation to the long history of psychological literature on transfer of learning, although formal ties between the two fields are limited. From the practical standpoint, reusing or transferring information from previously learned tasks for the learning of new tasks has the potential to significantly improve the sample efficiency of a reinforcement learning agent.\n",
    "<br><br>\n",
    "Ressource from : [Wikipedia](https://en.wikipedia.org/wiki/Transfer_learning)"
   ]
  },
  {
   "cell_type": "code",
   "execution_count": 1,
   "metadata": {},
   "outputs": [],
   "source": [
    "import pandas as pd\n",
    "import numpy as np\n",
    "import os\n",
    "import cv2\n",
    "import glob\n",
    "import matplotlib.pyplot as plt\n",
    "from tensorflow.keras.applications.vgg16 import VGG16\n",
    "from tensorflow.keras.optimizers import Adam, SGD\n",
    "from tensorflow.keras.callbacks import ModelCheckpoint\n",
    "from tensorflow.keras.layers import Dense, Flatten, Activation\n",
    "from tensorflow.keras.models import Model, Sequential"
   ]
  },
  {
   "cell_type": "markdown",
   "metadata": {},
   "source": [
    "# Split Data"
   ]
  },
  {
   "cell_type": "code",
   "execution_count": 2,
   "metadata": {},
   "outputs": [
    {
     "name": "stdout",
     "output_type": "stream",
     "text": [
      "['CREAM COLORED WOODPECKER' 'RUFUOS MOTMOT' 'WHITE TAILED TROPIC'\n",
      " 'KOOKABURRA' 'TREE SWALLOW' 'AMERICAN REDSTART' 'EASTERN TOWEE'\n",
      " 'IBERIAN MAGPIE' 'HOOPOES' 'BELTED KINGFISHER' 'CRESTED CARACARA'\n",
      " 'IMPERIAL SHAQ' 'VIOLET GREEN SWALLOW' 'CAPE MAY WARBLER'\n",
      " 'EASTERN MEADOWLARK' 'EUROPEAN GOLDFINCH' 'HOATZIN' 'TAIWAN MAGPIE'\n",
      " 'RED BELLIED PITTA' 'BARRED PUFFBIRD' 'SNOWY OWL' 'HAMMERKOP'\n",
      " 'NORTHERN GOSHAWK' 'AFRICAN EMERALD CUCKOO' 'ASHY THRUSHBIRD'\n",
      " 'BANDED STILT' 'COPPERY TAILED COUCAL' 'NORTHERN RED BISHOP'\n",
      " 'PURPLE FINCH' 'TAKAHE' 'SANDHILL CRANE' 'KING VULTURE' 'SHOEBILL'\n",
      " 'TRUMPTER SWAN' 'BLACK-NECKED GREBE' 'FIORDLAND PENGUIN' 'AMERICAN COOT'\n",
      " 'HEPATIC TANAGER' 'PUFFIN' 'BLACKBURNIAM WARBLER' 'NORTHERN FULMAR'\n",
      " 'BROWN THRASHER' 'PALILA' 'JABIRU' 'ANNAS HUMMINGBIRD' 'HIMALAYAN MONAL'\n",
      " 'CRESTED COUA' 'NOISY FRIARBIRD' 'CALIFORNIA GULL' 'PARUS MAJOR'\n",
      " 'VENEZUELIAN TROUPIAL' 'BIRD OF PARADISE' 'STRAWBERRY FINCH'\n",
      " 'RED HONEY CREEPER' 'RED FACED WARBLER' 'EMPEROR PENGUIN'\n",
      " 'CHINESE BAMBOO PARTRIDGE' 'GYRFALCON' 'RED FODY' 'EMU'\n",
      " 'PARAKETT  AKULET' 'BLACK-CAPPED CHICKADEE' 'BARROWS GOLDENEYE'\n",
      " 'MAGPIE GOOSE' 'GUINEA TURACO' 'BALD IBIS' 'RUBY THROATED HUMMINGBIRD'\n",
      " 'PURPLE SWAMPHEN' 'AZURE JAY' 'BLACK VULTURE' 'EUROPEAN TURTLE DOVE'\n",
      " 'STORK BILLED KINGFISHER' 'GREAT JACAMAR' '.DS_Store' 'ABBOTTS BABBLER'\n",
      " 'WATTLED LAPWING' 'BALTIMORE ORIOLE' 'GROVED BILLED ANI' 'CASSOWARY'\n",
      " 'HAWFINCH' 'BALD EAGLE' 'CAPUCHINBIRD' 'GOLDEN CHEEKED WARBLER'\n",
      " 'OVENBIRD' 'RUFOUS KINGFISHER' 'INDIAN BUSTARD' 'HORNED LARK'\n",
      " 'STRIPPED MANAKIN' 'ARARIPE MANAKIN' 'HORNED SUNGEM' 'CARMINE BEE-EATER'\n",
      " 'BLUE HERON' 'HYACINTH MACAW' 'YELLOW CACIQUE' 'KIWI' 'UMBRELLA BIRD'\n",
      " 'EASTERN BLUEBIRD' 'EURASIAN MAGPIE' 'LESSER ADJUTANT' 'COMMON FIRECREST'\n",
      " 'CHESTNET BELLIED EUPHONIA' 'CURL CRESTED ARACURI' 'CANARY' 'EARED PITA'\n",
      " 'TOWNSENDS WARBLER' 'CHATTERING LORY' 'SAMATRAN THRUSH' 'BLACK SKIMMER'\n",
      " 'GLOSSY IBIS' 'YELLOW BELLIED FLOWERPECKER' 'SORA' 'RED WINGED BLACKBIRD'\n",
      " 'BALI STARLING' 'BORNEAN BRISTLEHEAD' 'CHINESE POND HERON'\n",
      " 'BULWERS PHEASANT' 'BARN OWL' 'SHORT BILLED DOWITCHER' 'HARPY EAGLE'\n",
      " 'CRESTED NUTHATCH' 'BLACK BAZA' 'GILDED FLICKER' 'SRI LANKA BLUE MAGPIE'\n",
      " 'OYSTER CATCHER' 'WHITE NECKED RAVEN' 'NORTHERN CARDINAL'\n",
      " 'VULTURINE GUINEAFOWL' 'VERMILION FLYCATHER' 'SPANGLED COTINGA'\n",
      " 'STRIPED OWL' 'HOODED MERGANSER' 'BLONDE CRESTED WOODPECKER'\n",
      " 'BUSH TURKEY' 'IVORY GULL' 'D-ARNAUDS BARBET' 'ALBERTS TOWHEE'\n",
      " 'CACTUS WREN' 'NORTHERN MOCKINGBIRD' 'FAIRY BLUEBIRD' 'MASKED LAPWING'\n",
      " 'GANG GANG COCKATOO' 'MALACHITE KINGFISHER' 'RED TAILED THRUSH'\n",
      " 'WHITE THROATED BEE EATER' 'APAPANE' 'RED WISKERED BULBUL'\n",
      " 'RED TAILED HAWK' 'COMMON LOON' 'ORANGE BRESTED BUNTING' 'PINK ROBIN'\n",
      " 'INDIAN ROLLER' 'JANDAYA PARAKEET' 'SCARLET IBIS' 'BLACK TAIL CRAKE'\n",
      " 'BANDED PITA' 'BLACK THROATED WARBLER' 'IWI' 'CALIFORNIA QUAIL'\n",
      " 'ALTAMIRA YELLOWTHROAT' 'BRANDT CORMARANT' 'LAZULI BUNTING'\n",
      " 'PHILIPPINE EAGLE' 'MIKADO  PHEASANT' 'FAIRY TERN' 'ANDEAN GOOSE'\n",
      " 'PARADISE TANAGER' 'VARIED THRUSH' 'DARK EYED JUNCO'\n",
      " 'DOUBLE BARRED FINCH' 'EASTERN ROSELLA' 'GAMBELS QUAIL'\n",
      " 'RED BEARDED BEE EATER' 'GREY PLOVER' 'DEMOISELLE CRANE' 'GO AWAY BIRD'\n",
      " 'MANGROVE CUCKOO' 'ELLIOTS  PHEASANT' 'WHITE BROWED CRAKE'\n",
      " 'GOLD WING WARBLER' 'DUSKY LORY' 'CASPIAN TERN' 'CROW' 'RAINBOW LORIKEET'\n",
      " 'PURPLE GALLINULE' 'AMERICAN AVOCET' 'ORIENTAL BAY OWL' 'KAGU'\n",
      " 'HARLEQUIN QUAIL' 'COMMON POORWILL' 'RUDY KINGFISHER' 'ANIANIAU'\n",
      " 'FLAME TANAGER' 'BORNEAN PHEASANT' 'COCKATOO' 'GREAT GRAY OWL'\n",
      " 'PEREGRINE FALCON' 'NORTHERN JACANA' 'BLACK THROATED BUSHTIT'\n",
      " 'CROWNED PIGEON' 'DOWNY WOODPECKER' 'BEARDED BELLBIRD' 'NORTHERN PARULA'\n",
      " 'GOULDIAN FINCH' 'GREEN JAY' 'BLUE COAU' 'SPOONBILL'\n",
      " 'CINNAMON FLYCATCHER' 'PYGMY KINGFISHER' 'LONG-EARED OWL'\n",
      " 'DOUBLE EYED FIG PARROT' 'OKINAWA RAIL' 'HOUSE FINCH' 'GREEN BROADBILL'\n",
      " 'GREATOR SAGE GROUSE' 'ROSY FACED LOVEBIRD' 'WALL CREAPER'\n",
      " 'COCK OF THE  ROCK' 'CHUCAO TAPACULO' 'CRESTED OROPENDOLA'\n",
      " 'ROUGH LEG BUZZARD' 'PURPLE MARTIN' 'HAWAIIAN GOOSE' 'NORTHERN FLICKER'\n",
      " 'MYNA' 'WHIMBREL' 'BAIKAL TEAL' 'SMITHS LONGSPUR' 'AMETHYST WOODSTAR'\n",
      " 'ANDEAN LAPWING' 'AFRICAN CROWNED CRANE' 'HOUSE SPARROW' 'WILD TURKEY'\n",
      " 'VIOLET TURACO' 'RAZORBILL' 'HORNBILL' 'REGENT BOWERBIRD' 'OSPREY'\n",
      " 'ROCK DOVE' 'VICTORIA CROWNED PIGEON' 'CINNAMON TEAL' 'SATYR TRAGOPAN'\n",
      " 'BROWN CREPPER' 'BLUE GROUSE' 'COLLARED ARACARI' 'LITTLE AUK' 'PEACOCK'\n",
      " 'MALABAR HORNBILL' 'WATTLED CURASSOW' 'BLACK FRANCOLIN' 'COMMON STARLING'\n",
      " 'TIT MOUSE' 'BANDED BROADBILL' 'SWINHOES PHEASANT' 'GRAY CATBIRD'\n",
      " 'AVADAVAT' 'WOOD DUCK' 'CAPE ROCK THRUSH' 'AMERICAN GOLDFINCH'\n",
      " 'CERULEAN WARBLER' 'ANHINGA' 'CRAB PLOVER' 'BLUE THROATED TOUCANET'\n",
      " 'BLACK SWAN' 'GREAT KISKADEE' 'BLACK COCKATO' 'RED BROWED FINCH'\n",
      " 'SAND MARTIN' 'TASMANIAN HEN' 'CRANE HAWK' 'CHUKAR PARTRIDGE' 'FRIGATE'\n",
      " 'CAPPED HERON' 'TURKEY VULTURE' 'CRESTED FIREBACK' 'JACK SNIPE'\n",
      " 'LARK BUNTING' 'RED HEADED WOODPECKER' 'RED FACED CORMORANT'\n",
      " 'PATAGONIAN SIERRA FINCH' 'FLAME BOWERBIRD' 'PAINTED BUNTING'\n",
      " 'BLACK-THROATED SPARROW' 'CRESTED KINGFISHER' 'CUBAN TODY' 'GREEN MAGPIE'\n",
      " 'INLAND DOTTEREL' 'DOUBLE BRESTED CORMARANT' 'ANTILLEAN EUPHONIA'\n",
      " 'HARLEQUIN DUCK' 'ANTBIRD' 'EASTERN GOLDEN WEAVER' 'ANDEAN SISKIN'\n",
      " 'STEAMER DUCK' 'GOLDEN EAGLE' 'LILAC ROLLER' 'CALIFORNIA CONDOR'\n",
      " 'POMARINE JAEGER' 'INCA TERN' 'AMERICAN KESTREL' 'SCARLET TANAGER'\n",
      " 'GRAY PARTRIDGE' 'CRIMSON SUNBIRD' 'GRAY KINGBIRD' 'IBISBILL'\n",
      " 'FIRE TAILLED MYZORNIS' 'JAPANESE ROBIN' 'CUBAN TROGON' 'JAVA SPARROW'\n",
      " 'OCELLATED TURKEY' 'HORNED GUAN' 'CLARKS NUTCRACKER' 'CINNAMON ATTILA'\n",
      " 'QUETZAL' 'NICOBAR PIGEON' 'BLACK & YELLOW  BROADBILL' 'BEARDED BARBET'\n",
      " 'STRIPPED SWALLOW' 'CRIMSON CHAT' 'YELLOW HEADED BLACKBIRD'\n",
      " 'ASIAN CRESTED IBIS' 'AZURE TANAGER' 'MASKED BOOBY' 'HIMALAYAN BLUETAIL'\n",
      " 'ROYAL FLYCATCHER' 'SCARLET CROWNED FRUIT DOVE' 'BAY-BREASTED WARBLER'\n",
      " 'TOUCHAN' 'MANDRIN DUCK' 'KILLDEAR' 'GOLDEN CHLOROPHONIA'\n",
      " 'COMMON HOUSE MARTIN' 'HELMET VANGA' 'AFRICAN OYSTER CATCHER'\n",
      " 'RED NAPED TROGON' 'ALPINE CHOUGH' 'SCARLET MACAW' 'AMERICAN BITTERN'\n",
      " 'BOBOLINK' 'COMMON IORA' 'WILSONS BIRD OF PARADISE' 'ENGGANO MYNA'\n",
      " 'ELEGANT TROGON' 'GOLDEN PHEASANT' 'ABYSSINIAN GROUND HORNBILL'\n",
      " 'MALLARD DUCK' 'GOLDEN PIPIT' 'APOSTLEBIRD' 'AMERICAN PIPIT'\n",
      " 'CHIPPING SPARROW' 'CAPE LONGCLAW' 'PELICAN' 'NORTHERN GANNET'\n",
      " 'MALAGASY WHITE EYE' 'CRESTED AUKLET' 'CEDAR WAXWING' 'ALBATROSS'\n",
      " 'ABBOTTS BOOBY' 'BAR-TAILED GODWIT' 'INDIAN PITTA' 'BARN SWALLOW'\n",
      " 'COMMON GRACKLE' 'SPLENDID WREN' 'OSTRICH' 'CRESTED SHRIKETIT'\n",
      " 'WHITE CHEEKED TURACO' 'EURASIAN GOLDEN ORIOLE' 'SUPERB STARLING'\n",
      " 'RED HEADED DUCK' 'GREAT POTOO' 'BORNEAN LEAFBIRD' 'FLAMINGO'\n",
      " 'CAPE GLOSSY STARLING' 'INDIGO BUNTING' 'SNOWY EGRET' 'EMERALD TANAGER'\n",
      " 'TURQUOISE MOTMOT' 'SPOTTED CATBIRD' 'TROPICAL KINGBIRD'\n",
      " 'RING-NECKED PHEASANT' 'BAND TAILED GUAN' 'NORTHERN SHOVELER'\n",
      " 'SPOON BILED SANDPIPER' 'CHARA DE COLLAR' 'TEAL DUCK' 'AFRICAN FIREFINCH'\n",
      " 'EVENING GROSBEAK' 'MARABOU STORK' 'BANANAQUIT' 'ROBIN' 'BROWN NOODY'\n",
      " 'GUINEAFOWL' 'BEARDED REEDLING' 'MALEO' 'AZURE TIT' 'ROADRUNNER'\n",
      " 'MOURNING DOVE' 'TAILORBIRD' 'GURNEYS PITTA' 'KAKAPO'\n",
      " 'ALEXANDRINE PARAKEET' 'GILA WOODPECKER']\n"
     ]
    }
   ],
   "source": [
    "# Splitting the data starts here, we store the path to the training set into a variable for further referencing.\n",
    "\n",
    "train_path = './dataset/train'\n",
    "test_path = './dataset/test'\n",
    "valid_path = './dataset/valid'\n",
    "\n",
    "birds = np.array(list(os.listdir(train_path)))\n",
    "print(birds)"
   ]
  },
  {
   "cell_type": "code",
   "execution_count": 3,
   "metadata": {},
   "outputs": [],
   "source": [
    "# pick only 20 type of birds to train on\n",
    "nr_birds = 30\n",
    "\n",
    "np.random.shuffle(birds)\n",
    "# slicing the data\n",
    "birds = birds[:nr_birds]"
   ]
  },
  {
   "cell_type": "code",
   "execution_count": 4,
   "metadata": {
    "scrolled": true,
    "tags": []
   },
   "outputs": [
    {
     "name": "stdout",
     "output_type": "stream",
     "text": [
      "{0: 'GREAT GRAY OWL', 1: 'CRESTED KINGFISHER', 2: 'KOOKABURRA', 3: 'VIOLET GREEN SWALLOW', 4: 'STORK BILLED KINGFISHER', 5: 'AFRICAN CROWNED CRANE', 6: 'ROCK DOVE', 7: 'NORTHERN GOSHAWK', 8: 'HIMALAYAN BLUETAIL', 9: 'VIOLET TURACO', 10: 'CROW', 11: 'BOBOLINK', 12: 'GANG GANG COCKATOO', 13: 'BLACK & YELLOW  BROADBILL', 14: 'BARN OWL', 15: 'RED HEADED WOODPECKER', 16: 'RAZORBILL', 17: 'BLACK COCKATO', 18: 'HARLEQUIN QUAIL', 19: 'OKINAWA RAIL', 20: 'HAWFINCH', 21: 'CINNAMON FLYCATCHER', 22: 'ORANGE BRESTED BUNTING', 23: 'HOOPOES', 24: 'TOUCHAN', 25: 'GUINEAFOWL', 26: 'EMU', 27: 'CAPUCHINBIRD', 28: 'EUROPEAN TURTLE DOVE', 29: 'TRUMPTER SWAN', 30: 'GRAY CATBIRD', 31: 'PELICAN', 32: 'JAVA SPARROW', 33: 'STEAMER DUCK', 34: 'CASPIAN TERN', 35: 'JABIRU', 36: 'HAMMERKOP', 37: 'EMPEROR PENGUIN', 38: 'BIRD OF PARADISE', 39: 'BALI STARLING'}\n",
      "dict_values(['GREAT GRAY OWL', 'CRESTED KINGFISHER', 'KOOKABURRA', 'VIOLET GREEN SWALLOW', 'STORK BILLED KINGFISHER', 'AFRICAN CROWNED CRANE', 'ROCK DOVE', 'NORTHERN GOSHAWK', 'HIMALAYAN BLUETAIL', 'VIOLET TURACO', 'CROW', 'BOBOLINK', 'GANG GANG COCKATOO', 'BLACK & YELLOW  BROADBILL', 'BARN OWL', 'RED HEADED WOODPECKER', 'RAZORBILL', 'BLACK COCKATO', 'HARLEQUIN QUAIL', 'OKINAWA RAIL', 'HAWFINCH', 'CINNAMON FLYCATCHER', 'ORANGE BRESTED BUNTING', 'HOOPOES', 'TOUCHAN', 'GUINEAFOWL', 'EMU', 'CAPUCHINBIRD', 'EUROPEAN TURTLE DOVE', 'TRUMPTER SWAN', 'GRAY CATBIRD', 'PELICAN', 'JAVA SPARROW', 'STEAMER DUCK', 'CASPIAN TERN', 'JABIRU', 'HAMMERKOP', 'EMPEROR PENGUIN', 'BIRD OF PARADISE', 'BALI STARLING'])\n"
     ]
    }
   ],
   "source": [
    "idx_to_name = {i:x for (i,x) in enumerate(birds)}\n",
    "name_to_idx = {x:i for (i,x) in enumerate(birds)}\n",
    "print(idx_to_name)\n",
    "\n",
    "print(idx_to_name.values())"
   ]
  },
  {
   "cell_type": "code",
   "execution_count": 5,
   "metadata": {},
   "outputs": [],
   "source": [
    "# Function to store labels based on the folders.\n",
    "\n",
    "def get_data_labels(path, birds, dimensions):\n",
    "    data = []\n",
    "    labels = []\n",
    "\n",
    "    for bird in birds:\n",
    "        imgs = [cv2.resize(cv2.imread(img), dimensions, interpolation=cv2.INTER_AREA) for img in glob.glob(path + \"/\" + bird + \"/*.jpg\")]\n",
    "        for img in imgs:\n",
    "            data.append(img)\n",
    "            labels.append(name_to_idx[bird])\n",
    "            \n",
    "    return np.array(data), np.array(labels)"
   ]
  },
  {
   "cell_type": "code",
   "execution_count": 6,
   "metadata": {},
   "outputs": [
    {
     "name": "stdout",
     "output_type": "stream",
     "text": [
      "(5646, 224, 224, 3)\n"
     ]
    }
   ],
   "source": [
    "data_train, labels_train = get_data_labels(train_path, idx_to_name.values(), (224,224))\n",
    "data_test, labels_test = get_data_labels(test_path, idx_to_name.values(), (224,224))\n",
    "data_valid, labels_valid = get_data_labels(valid_path, idx_to_name.values(), (224,224))\n",
    "\n",
    "print(data_train.shape)"
   ]
  },
  {
   "cell_type": "code",
   "execution_count": 7,
   "metadata": {},
   "outputs": [],
   "source": [
    "def normalize(data):\n",
    "    data = data / 255.0\n",
    "    data = data.astype('float32')\n",
    "    return data\n",
    "\n",
    "def one_hot(labels):\n",
    "    labels = np.eye(len(np.unique(labels)))[labels]\n",
    "    return labels"
   ]
  },
  {
   "cell_type": "code",
   "execution_count": 8,
   "metadata": {},
   "outputs": [
    {
     "ename": "IndexError",
     "evalue": "index 39 is out of bounds for axis 0 with size 39",
     "output_type": "error",
     "traceback": [
      "\u001b[0;31m---------------------------------------------------------------------------\u001b[0m",
      "\u001b[0;31mIndexError\u001b[0m                                Traceback (most recent call last)",
      "Input \u001b[0;32mIn [8]\u001b[0m, in \u001b[0;36m<cell line: 6>\u001b[0;34m()\u001b[0m\n\u001b[1;32m      3\u001b[0m data_valid \u001b[38;5;241m=\u001b[39m normalize(data_valid)\n\u001b[1;32m      5\u001b[0m labels_train \u001b[38;5;241m=\u001b[39m one_hot(labels_train)\n\u001b[0;32m----> 6\u001b[0m labels_test \u001b[38;5;241m=\u001b[39m \u001b[43mone_hot\u001b[49m\u001b[43m(\u001b[49m\u001b[43mlabels_test\u001b[49m\u001b[43m)\u001b[49m\n\u001b[1;32m      7\u001b[0m labels_valid \u001b[38;5;241m=\u001b[39m one_hot(labels_valid)\n",
      "Input \u001b[0;32mIn [7]\u001b[0m, in \u001b[0;36mone_hot\u001b[0;34m(labels)\u001b[0m\n\u001b[1;32m      6\u001b[0m \u001b[38;5;28;01mdef\u001b[39;00m \u001b[38;5;21mone_hot\u001b[39m(labels):\n\u001b[0;32m----> 7\u001b[0m     labels \u001b[38;5;241m=\u001b[39m \u001b[43mnp\u001b[49m\u001b[38;5;241;43m.\u001b[39;49m\u001b[43meye\u001b[49m\u001b[43m(\u001b[49m\u001b[38;5;28;43mlen\u001b[39;49m\u001b[43m(\u001b[49m\u001b[43mnp\u001b[49m\u001b[38;5;241;43m.\u001b[39;49m\u001b[43munique\u001b[49m\u001b[43m(\u001b[49m\u001b[43mlabels\u001b[49m\u001b[43m)\u001b[49m\u001b[43m)\u001b[49m\u001b[43m)\u001b[49m\u001b[43m[\u001b[49m\u001b[43mlabels\u001b[49m\u001b[43m]\u001b[49m\n\u001b[1;32m      8\u001b[0m     \u001b[38;5;28;01mreturn\u001b[39;00m labels\n",
      "\u001b[0;31mIndexError\u001b[0m: index 39 is out of bounds for axis 0 with size 39"
     ]
    }
   ],
   "source": [
    "data_train = normalize(data_train)\n",
    "data_test = normalize(data_test)\n",
    "data_valid = normalize(data_valid)\n",
    "\n",
    "labels_train = one_hot(labels_train)\n",
    "labels_test = one_hot(labels_test)\n",
    "labels_valid = one_hot(labels_valid)"
   ]
  },
  {
   "cell_type": "markdown",
   "metadata": {},
   "source": [
    "# Architecture"
   ]
  },
  {
   "cell_type": "markdown",
   "metadata": {},
   "source": [
    "# Implementation"
   ]
  },
  {
   "cell_type": "code",
   "execution_count": null,
   "metadata": {
    "tags": []
   },
   "outputs": [],
   "source": [
    "weights_path = \"./dataset/pre-trained/vgg16_weights_tf_dim_ordering_tf_kernels_notop.h5\"\n",
    "base_vgg16 = VGG16(weights=weights_path, include_top=False, input_shape=(224, 224, 3))\n",
    "base_vgg16.trainable = False\n",
    "base_vgg16.summary()"
   ]
  },
  {
   "cell_type": "code",
   "execution_count": null,
   "metadata": {
    "tags": []
   },
   "outputs": [],
   "source": [
    "# Freezing the weights\n",
    "#for layer in base_model.layers:\n",
    "    #layer.trainable = False\n",
    " \n",
    "# base_model.summary()"
   ]
  },
  {
   "cell_type": "code",
   "execution_count": null,
   "metadata": {},
   "outputs": [],
   "source": [
    "# use “get_layer” method to save the last layer of the network\n",
    "#last_layer = base_model.get_layer('block5_pool')\n",
    "# save the output of the last layer to be the input of the next layer\n",
    "#last_output = last_layer.output\n",
    " \n",
    "# flatten the classifier input which is output of the last layer of VGG16 model\n",
    "#x = Flatten()(last_output)\n",
    " \n",
    "# add our new softmax layer with 3 hidden units\n",
    "#x = Dense(nr_birds, activation='softmax', name='softmax')(x)"
   ]
  },
  {
   "cell_type": "code",
   "execution_count": null,
   "metadata": {
    "tags": []
   },
   "outputs": [],
   "source": [
    "# instantiate a new_model using keras’s Model class\n",
    "#new_model = Model(inputs=base_model.input, outputs=x)\n",
    "\n",
    "new_model = Sequential()\n",
    "new_model.add(base_vgg16)\n",
    "\n",
    "new_model.add(Flatten()) #1024#model.add(Dense(256)) \n",
    "new_model.add(Activation('relu'))\n",
    "new_model.add(Dense(nr_birds)) \n",
    "new_model.add(Activation('softmax'))\n",
    " \n",
    "# print the new_model summary\n",
    "new_model.summary()"
   ]
  },
  {
   "cell_type": "code",
   "execution_count": null,
   "metadata": {},
   "outputs": [],
   "source": [
    "new_model.compile(Adam(learning_rate=0.001), loss='categorical_crossentropy', metrics=['accuracy'])"
   ]
  },
  {
   "cell_type": "code",
   "execution_count": null,
   "metadata": {
    "scrolled": true,
    "tags": []
   },
   "outputs": [],
   "source": [
    "print(len(data_train))\n",
    "checkpointer = ModelCheckpoint(filepath='birds.model.hdf5', save_best_only=True)\n",
    "\n",
    "history = new_model.fit(data_train, labels_train, steps_per_epoch=len(data_train),\n",
    "validation_data=(data_test, labels_test), validation_steps=len(data_valid), epochs=10, verbose=1, batch_size=len(data_train), callbacks=[checkpointer])"
   ]
  },
  {
   "cell_type": "code",
   "execution_count": null,
   "metadata": {},
   "outputs": [],
   "source": [
    "# Analyze Training Data"
   ]
  },
  {
   "cell_type": "code",
   "execution_count": null,
   "metadata": {},
   "outputs": [],
   "source": [
    "plt.plot(history.history['val_accuracy'], 'b')\n",
    "plt.plot(history.history['val_loss'], 'r')\n",
    "plt.show()"
   ]
  },
  {
   "cell_type": "code",
   "execution_count": null,
   "metadata": {},
   "outputs": [],
   "source": [
    "def get_accuracy(model, data_valid, labels_valid):\n",
    "    predictions = model(data_valid)\n",
    "    wrong = 0\n",
    "    for i, pred in enumerate(predictions):\n",
    "        if( np.argmax(pred) !=  np.argmax(labels_valid[i])):\n",
    "            wrong += 1\n",
    "    return (len(data_valid) - wrong) / len(data_valid)"
   ]
  },
  {
   "cell_type": "code",
   "execution_count": null,
   "metadata": {
    "scrolled": true,
    "tags": []
   },
   "outputs": [],
   "source": [
    "# we use the validation data to verify the accuracy\n",
    "accuracy = get_accuracy(new_model, data_valid, labels_valid)\n",
    "print(\"Accuracy:\", accuracy)"
   ]
  },
  {
   "cell_type": "code",
   "execution_count": null,
   "metadata": {},
   "outputs": [],
   "source": [
    "new_model.save('birds-trained-model')"
   ]
  },
  {
   "cell_type": "markdown",
   "metadata": {},
   "source": [
    "# Resources"
   ]
  },
  {
   "cell_type": "markdown",
   "metadata": {},
   "source": [
    "Architectures images from [Deep Learning for Vision Systems Book](https://www.manning.com/books/deep-learning-for-vision-systems)"
   ]
  }
 ],
 "metadata": {
  "interpreter": {
   "hash": "f50f518e30a1733e8e8c8b608de131219c9974acb0d02ce13c65eb2a815a608c"
  },
  "kernelspec": {
   "display_name": "Python 3 (ipykernel)",
   "language": "python",
   "name": "python3"
  },
  "language_info": {
   "codemirror_mode": {
    "name": "ipython",
    "version": 3
   },
   "file_extension": ".py",
   "mimetype": "text/x-python",
   "name": "python",
   "nbconvert_exporter": "python",
   "pygments_lexer": "ipython3",
   "version": "3.9.10"
  }
 },
 "nbformat": 4,
 "nbformat_minor": 2
}
