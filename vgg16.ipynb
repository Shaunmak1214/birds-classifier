{
 "cells": [
  {
   "cell_type": "markdown",
   "metadata": {},
   "source": [
    "# Import Modules"
   ]
  },
  {
   "cell_type": "code",
   "execution_count": null,
   "metadata": {},
   "outputs": [],
   "source": [
    "import pandas as pd\n",
    "import numpy as np\n",
    "import os\n",
    "import cv2\n",
    "import glob\n",
    "import matplotlib.pyplot as plt\n",
    "import warnings\n",
    "from tensorflow.keras import backend\n",
    "from tensorflow.keras.applications.vgg16 import VGG16\n",
    "from tensorflow.keras.optimizers import Adam, SGD\n",
    "from tensorflow.keras.callbacks import ModelCheckpoint\n",
    "from tensorflow.keras.layers import Dense, Flatten, Dropout\n",
    "from tensorflow.keras.models import Model, load_model\n",
    "from tensorflow.keras.preprocessing.image import load_img\n",
    "from tensorflow.keras.preprocessing.image import img_to_array, ImageDataGenerator\n",
    "from tensorflow.keras.applications.vgg16 import preprocess_input\n",
    "from tensorflow.keras.callbacks import Callback\n",
    "\n",
    "from ipynb.fs.full.utils import *"
   ]
  },
  {
   "cell_type": "markdown",
   "metadata": {},
   "source": [
    "# Variables Initialization and Data Description"
   ]
  },
  {
   "cell_type": "code",
   "execution_count": null,
   "metadata": {},
   "outputs": [],
   "source": [
    "train_path = './dataset/20train'\n",
    "test_path = './dataset/20test'\n",
    "valid_path = './dataset/20valid'\n",
    "nr_birds = 20\n",
    "\n",
    "describe_data();"
   ]
  },
  {
   "cell_type": "markdown",
   "metadata": {},
   "source": [
    "# Prepare Generators and Variables Initialization"
   ]
  },
  {
   "cell_type": "code",
   "execution_count": null,
   "metadata": {},
   "outputs": [],
   "source": [
    "train_path = './dataset/20train'\n",
    "test_path = './dataset/20test'\n",
    "valid_path = './dataset/20valid'\n",
    "nr_birds = 20\n",
    "\n",
    "# Data augmentation\n",
    "train_datagen = ImageDataGenerator(\n",
    "    rescale=1/255, # normalization\n",
    "    horizontal_flip=True,\n",
    "    vertical_flip=True,\n",
    "    rotation_range=15,\n",
    "    zoom_range=0.1,\n",
    "    brightness_range=[0.5, 2.0]\n",
    ")\n",
    "valid_datagen = ImageDataGenerator(rescale=1/255)\n",
    "test_datagen = ImageDataGenerator(rescale=1/255)\n",
    "\n",
    "train_generator = train_datagen.flow_from_directory(\n",
    "    train_path,\n",
    "    target_size=(224, 224),\n",
    "    batch_size=32,\n",
    "    color_mode='rgb',\n",
    "    class_mode='categorical',\n",
    ")\n",
    "\n",
    "validation_generator = valid_datagen.flow_from_directory(\n",
    "    valid_path,\n",
    "    target_size=(224, 224),\n",
    "    batch_size=32,\n",
    "    color_mode='rgb',\n",
    "    class_mode='categorical')\n",
    "\n",
    "test_generator = test_datagen.flow_from_directory(\n",
    "    test_path,\n",
    "    target_size=(224, 224),\n",
    "    batch_size=32,\n",
    "    color_mode='rgb',\n",
    "    class_mode='categorical')\n",
    "\n",
    "def plotImages(images_arr):\n",
    "    fig, axes = plt.subplots(1, 5, figsize=(20,20))\n",
    "    axes = axes.flatten()\n",
    "    for img, ax in zip(images_arr, axes):\n",
    "        ax.imshow(img)\n",
    "        ax.axis('off')\n",
    "    plt.tight_layout()\n",
    "    plt.show()\n",
    "    \n",
    "augmented_images = [train_generator[0][0][0] for i in range(5)]\n",
    "plotImages(augmented_images)"
   ]
  },
  {
   "cell_type": "markdown",
   "metadata": {},
   "source": [
    "# Declare callbacks"
   ]
  },
  {
   "cell_type": "code",
   "execution_count": null,
   "metadata": {},
   "outputs": [],
   "source": [
    "class EarlyStoppingByLossVal(Callback):\n",
    "    def __init__(self, monitor='val_loss', value=0.00001, verbose=0):\n",
    "        super(Callback, self).__init__()\n",
    "        self.monitor = monitor\n",
    "        self.value = value\n",
    "        self.verbose = verbose\n",
    "\n",
    "    def on_epoch_end(self, epoch, logs={}):\n",
    "        current = logs.get(self.monitor)\n",
    "        if current is None:\n",
    "            warnings.warn(\"Early stopping requires %s available!\" % self.monitor, RuntimeWarning)\n",
    "\n",
    "        if current < self.value:\n",
    "            if self.verbose > 0:\n",
    "                print(\"Epoch %05d: early stopping THR\" % epoch)\n",
    "            self.model.stop_training = True\n",
    "\n",
    "checkpointer = ModelCheckpoint(filepath='./checkpoints/birds.model.hdf5', save_best_only=True)"
   ]
  },
  {
   "cell_type": "markdown",
   "metadata": {},
   "source": [
    "# Build model and train model"
   ]
  },
  {
   "cell_type": "code",
   "execution_count": null,
   "metadata": {
    "tags": []
   },
   "outputs": [],
   "source": [
    "base_vgg16 = VGG16(weights=\"imagenet\", include_top=True, input_shape=(224, 224, 3))\n",
    "\n",
    "# Freezing the weights\n",
    "for layer in base_vgg16.layers:\n",
    "    layer.trainable = False\n",
    "\n",
    "base_vgg16.summary();\n",
    "\n",
    "# use “get_layer” method to save the last layer of the network\n",
    "last_layer = base_vgg16.get_layer('block5_pool')\n",
    "# save the output of the last layer to be the input of the next layer\n",
    "last_output = last_layer.output\n",
    "\n",
    "# flatten the classifier input which is output of the last layer of VGG16 model\n",
    "x = Flatten()(last_output)\n",
    "\n",
    "x = Dropout(0.2)(x)\n",
    "\n",
    "# add our new softmax layer with 3 hidden units\n",
    "x = Dense(nr_birds, activation='softmax', name='softmax')(x)\n",
    "\n",
    "# instantiate a new_model using keras’s Model class\n",
    "new_model = Model(inputs=base_vgg16.input, outputs=x)\n",
    "\n",
    "# print the new_model summary\n",
    "new_model.summary()"
   ]
  },
  {
   "cell_type": "code",
   "execution_count": null,
   "metadata": {
    "scrolled": true,
    "tags": []
   },
   "outputs": [],
   "source": [
    "new_model.compile(Adam(lr=0.0001), loss='categorical_crossentropy', metrics=['accuracy'])\n",
    "AdamHistory = new_model.fit(train_generator, epochs=30, validation_data=validation_generator, verbose=1, \n",
    "                            callbacks=[checkpointer, EarlyStoppingByLossVal(monitor='val_loss', value=0.001, verbose=1)])\n",
    "\n",
    "test_loss, test_acc = new_model.evaluate(test_generator)\n",
    "print(\"Test Accuracy (Adam):\", test_acc)\n",
    "\n",
    "backend.clear_session()\n",
    "\n",
    "new_model.compile(SGD(lr=0.0001, momentum=0.9, nesterov=True), loss='categorical_crossentropy', metrics=['accuracy'])\n",
    "SgdHistory = new_model.fit(train_generator, epochs=30, validation_data=validation_generator, verbose=1, callbacks=[checkpointer, EarlyStoppingByLossVal(monitor='val_loss', value=0.001, verbose=1)])\n",
    "\n",
    "test_loss, test_acc = new_model.evaluate(test_generator)\n",
    "print(\"Test Accuracy (SGD):\", test_acc)"
   ]
  },
  {
   "cell_type": "code",
   "execution_count": null,
   "metadata": {},
   "outputs": [],
   "source": [
    "def plotOptimizer():\n",
    "  fig = plt.figure()\n",
    "  plt.plot(SgdHistory.history['val_accuracy'], 'g', label='SGD Accuracy')\n",
    "  plt.plot(SgdHistory.history['val_loss'], 'g',  linestyle = 'dashed', label = 'SGD Loss')\n",
    "  plt.plot(AdamHistory.history['val_accuracy'], 'b', label='Adam Accuracy')\n",
    "  plt.plot(AdamHistory.history['val_loss'], 'b',  linestyle = 'dashed', label='Adam Loss')\n",
    "\n",
    "  plt.title('Relationship between validation accuracy and epoch across 2 optimizers - VGG16(CNN)')\n",
    "  plt.xlabel('Epochs')\n",
    "  plt.ylabel('Values')\n",
    "  plt.legend()\n",
    "  return fig\n",
    "\n",
    "fig = plotOptimizer()\n",
    "fig.show()"
   ]
  },
  {
   "cell_type": "code",
   "execution_count": null,
   "metadata": {
    "scrolled": false
   },
   "outputs": [],
   "source": [
    "history_dict = AdamHistory.history\n",
    "loss_values = history_dict[\"loss\"]\n",
    "val_loss_values = history_dict[\"val_loss\"]\n",
    "acc_values = history_dict[\"val_accuracy\"]\n",
    "val_acc_values = history_dict[\"val_accuracy\"]\n",
    "epochs = range(1, len(history_dict[\"accuracy\"]) + 1)\n",
    "\n",
    "plt.plot(epochs, loss_values, \"b\", marker = \"o\", label=\"train\")\n",
    "plt.plot(epochs, val_loss_values, \"b\", label=\"valid\")\n",
    "plt.title(\"Loss - ADAM\")\n",
    "plt.xlabel(\"Epochs\")\n",
    "plt.ylabel(\"Loss\")\n",
    "plt.legend()\n",
    "plt.show()\n",
    "\n",
    "plt.plot(epochs, acc_values, \"b\", marker = \"o\", label=\"train\")\n",
    "plt.plot(epochs, val_acc_values, \"r\", label=\"valid\")\n",
    "plt.title(\"Accuracy - ADAM\")\n",
    "plt.xlabel(\"Epochs\")\n",
    "plt.ylabel(\"Accuracy\")\n",
    "plt.legend()\n",
    "plt.show()\n",
    "\n",
    "import numpy as np\n",
    "print(\"best val_acc:\", np.max(val_acc_values), \"epoch:\", np.argmax(val_acc_values))\n",
    "print(\"best val_loss:\", np.min(val_loss_values), \"epoch:\", np.argmax(val_loss_values))"
   ]
  },
  {
   "cell_type": "code",
   "execution_count": null,
   "metadata": {},
   "outputs": [],
   "source": [
    "history_dict = SgdHistory.history\n",
    "loss_values = history_dict[\"loss\"]\n",
    "val_loss_values = history_dict[\"val_loss\"]\n",
    "acc_values = history_dict[\"val_accuracy\"]\n",
    "val_acc_values = history_dict[\"val_accuracy\"]\n",
    "epochs = range(1, len(history_dict[\"accuracy\"]) + 1)\n",
    "\n",
    "plt.plot(epochs, loss_values, \"b\", marker = \"o\", label=\"train\")\n",
    "plt.plot(epochs, val_loss_values, \"r\", label=\"valid\")\n",
    "plt.title(\"Loss - SGD\")\n",
    "plt.xlabel(\"Epochs\")\n",
    "plt.ylabel(\"Loss\")\n",
    "plt.legend()\n",
    "plt.show()\n",
    "\n",
    "plt.plot(epochs, acc_values, \"b\", marker = \"o\", label=\"train\")\n",
    "plt.plot(epochs, val_acc_values, \"r\", label=\"valid\")\n",
    "plt.title(\"Accuracy - SGD\")\n",
    "plt.xlabel(\"Epochs\")\n",
    "plt.ylabel(\"Accuracy\")\n",
    "plt.legend()\n",
    "plt.show()\n",
    "\n",
    "import numpy as np\n",
    "print(\"best val_acc:\", np.max(val_acc_values), \"epoch:\", np.argmax(val_acc_values))\n",
    "print(\"best val_loss:\", np.min(val_loss_values), \"epoch:\", np.argmax(val_loss_values))"
   ]
  },
  {
   "cell_type": "markdown",
   "metadata": {},
   "source": [
    "# Testing "
   ]
  },
  {
   "cell_type": "code",
   "execution_count": null,
   "metadata": {},
   "outputs": [],
   "source": [
    "test_loss, test_acc = new_model.evaluate(test_generator)\n",
    "print(\"Test Accuracy:\", test_acc)"
   ]
  },
  {
   "cell_type": "code",
   "execution_count": null,
   "metadata": {},
   "outputs": [],
   "source": [
    "new_model.save('./models/cnn_model.h5')"
   ]
  },
  {
   "cell_type": "markdown",
   "metadata": {},
   "source": [
    "## Running Predictions From Saved Model"
   ]
  },
  {
   "cell_type": "code",
   "execution_count": null,
   "metadata": {},
   "outputs": [],
   "source": [
    "def decode (predicted_arr):\n",
    "  train_path = './dataset/20train'\n",
    "\n",
    "  all_birds_cat = np.array(list(os.listdir(train_path)))\n",
    "  for i, pred in enumerate(predicted_arr):\n",
    "    confidence = np.round(np.max(pred) * 100, 2)\n",
    "    return (all_birds_cat[np.argmax(pred)], confidence)\n"
   ]
  },
  {
   "cell_type": "code",
   "execution_count": null,
   "metadata": {},
   "outputs": [],
   "source": [
    "\n",
    "model = load_model('./models/cnn_model.h5')\n",
    "\n",
    "predict_image_path = './dataset/20test/BARRED PUFFBIRD/1.jpg'\n",
    "\n",
    "plt.imshow(cv2.imread(predict_image_path))\n",
    "plt.show();\n",
    "\n",
    "img = load_img(predict_image_path, target_size=(224,224))\n",
    "img = img_to_array(img)\n",
    "img = img.reshape((1, img.shape[0], img.shape[1], img.shape[2]))\n",
    "img = preprocess_input(img)\n",
    "\n",
    "predictions = model.predict(img)\n",
    "label, confidence = decode(predictions)\n",
    "\n",
    "print(label + ' with ' + str(confidence) + '% confidence')"
   ]
  }
 ],
 "metadata": {
  "interpreter": {
   "hash": "f50f518e30a1733e8e8c8b608de131219c9974acb0d02ce13c65eb2a815a608c"
  },
  "kernelspec": {
   "display_name": "Python 3 (ipykernel)",
   "language": "python",
   "name": "python3"
  },
  "language_info": {
   "codemirror_mode": {
    "name": "ipython",
    "version": 3
   },
   "file_extension": ".py",
   "mimetype": "text/x-python",
   "name": "python",
   "nbconvert_exporter": "python",
   "pygments_lexer": "ipython3",
   "version": "3.9.10"
  }
 },
 "nbformat": 4,
 "nbformat_minor": 2
}
