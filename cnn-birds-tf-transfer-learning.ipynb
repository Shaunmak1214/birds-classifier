{
 "cells": [
  {
   "cell_type": "markdown",
   "metadata": {},
   "source": [
    "# Birds Classifications"
   ]
  },
  {
   "cell_type": "markdown",
   "metadata": {},
   "source": [
    "## Definition of Transfer Learning\n",
    "\n",
    "Transfer learning (TL) is a research problem in machine learning (ML) that focuses on storing knowledge gained while solving one problem and applying it to a different but related problem. For example, knowledge gained while learning to recognize cars could apply when trying to recognize trucks. This area of research bears some relation to the long history of psychological literature on transfer of learning, although formal ties between the two fields are limited. From the practical standpoint, reusing or transferring information from previously learned tasks for the learning of new tasks has the potential to significantly improve the sample efficiency of a reinforcement learning agent.\n",
    "<br><br>\n",
    "Ressource from : [Wikipedia](https://en.wikipedia.org/wiki/Transfer_learning)"
   ]
  },
  {
   "cell_type": "code",
   "execution_count": 1,
   "metadata": {},
   "outputs": [],
   "source": [
    "import pandas as pd\n",
    "import numpy as np\n",
    "import os\n",
    "import cv2\n",
    "import glob\n",
    "import matplotlib.pyplot as plt\n",
    "from tensorflow.keras.applications.vgg16 import VGG16\n",
    "from tensorflow.keras.optimizers import Adam, SGD\n",
    "from tensorflow.keras.callbacks import ModelCheckpoint"
   ]
  },
  {
   "cell_type": "markdown",
   "metadata": {},
   "source": [
    "# Split Data"
   ]
  },
  {
   "cell_type": "code",
   "execution_count": 2,
   "metadata": {},
   "outputs": [
    {
     "name": "stdout",
     "output_type": "stream",
     "text": [
      "['CREAM COLORED WOODPECKER' 'RUFUOS MOTMOT' 'WHITE TAILED TROPIC'\n",
      " 'KOOKABURRA' 'TREE SWALLOW' 'AMERICAN REDSTART' 'EASTERN TOWEE'\n",
      " 'IBERIAN MAGPIE' 'HOOPOES' 'BELTED KINGFISHER' 'CRESTED CARACARA'\n",
      " 'IMPERIAL SHAQ' 'VIOLET GREEN SWALLOW' 'CAPE MAY WARBLER'\n",
      " 'EASTERN MEADOWLARK' 'EUROPEAN GOLDFINCH' 'HOATZIN' 'TAIWAN MAGPIE'\n",
      " 'RED BELLIED PITTA' 'BARRED PUFFBIRD' 'SNOWY OWL' 'HAMMERKOP'\n",
      " 'NORTHERN GOSHAWK' 'AFRICAN EMERALD CUCKOO' 'ASHY THRUSHBIRD'\n",
      " 'BANDED STILT' 'COPPERY TAILED COUCAL' 'NORTHERN RED BISHOP'\n",
      " 'PURPLE FINCH' 'TAKAHE' 'SANDHILL CRANE' 'KING VULTURE' 'SHOEBILL'\n",
      " 'TRUMPTER SWAN' 'BLACK-NECKED GREBE' 'FIORDLAND PENGUIN' 'AMERICAN COOT'\n",
      " 'HEPATIC TANAGER' 'PUFFIN' 'BLACKBURNIAM WARBLER' 'NORTHERN FULMAR'\n",
      " 'BROWN THRASHER' 'PALILA' 'JABIRU' 'ANNAS HUMMINGBIRD' 'HIMALAYAN MONAL'\n",
      " 'CRESTED COUA' 'NOISY FRIARBIRD' 'CALIFORNIA GULL' 'PARUS MAJOR'\n",
      " 'VENEZUELIAN TROUPIAL' 'BIRD OF PARADISE' 'STRAWBERRY FINCH'\n",
      " 'RED HONEY CREEPER' 'RED FACED WARBLER' 'EMPEROR PENGUIN'\n",
      " 'CHINESE BAMBOO PARTRIDGE' 'GYRFALCON' 'RED FODY' 'EMU'\n",
      " 'PARAKETT  AKULET' 'BLACK-CAPPED CHICKADEE' 'BARROWS GOLDENEYE'\n",
      " 'MAGPIE GOOSE' 'GUINEA TURACO' 'BALD IBIS' 'RUBY THROATED HUMMINGBIRD'\n",
      " 'PURPLE SWAMPHEN' 'AZURE JAY' 'BLACK VULTURE' 'EUROPEAN TURTLE DOVE'\n",
      " 'STORK BILLED KINGFISHER' 'GREAT JACAMAR' '.DS_Store' 'ABBOTTS BABBLER'\n",
      " 'WATTLED LAPWING' 'BALTIMORE ORIOLE' 'GROVED BILLED ANI' 'CASSOWARY'\n",
      " 'HAWFINCH' 'BALD EAGLE' 'CAPUCHINBIRD' 'GOLDEN CHEEKED WARBLER'\n",
      " 'OVENBIRD' 'RUFOUS KINGFISHER' 'INDIAN BUSTARD' 'HORNED LARK'\n",
      " 'STRIPPED MANAKIN' 'ARARIPE MANAKIN' 'HORNED SUNGEM' 'CARMINE BEE-EATER'\n",
      " 'BLUE HERON' 'HYACINTH MACAW' 'YELLOW CACIQUE' 'KIWI' 'UMBRELLA BIRD'\n",
      " 'EASTERN BLUEBIRD' 'EURASIAN MAGPIE' 'LESSER ADJUTANT' 'COMMON FIRECREST'\n",
      " 'CHESTNET BELLIED EUPHONIA' 'CURL CRESTED ARACURI' 'CANARY' 'EARED PITA'\n",
      " 'TOWNSENDS WARBLER' 'CHATTERING LORY' 'SAMATRAN THRUSH' 'BLACK SKIMMER'\n",
      " 'GLOSSY IBIS' 'YELLOW BELLIED FLOWERPECKER' 'SORA' 'RED WINGED BLACKBIRD'\n",
      " 'BALI STARLING' 'BORNEAN BRISTLEHEAD' 'CHINESE POND HERON'\n",
      " 'BULWERS PHEASANT' 'BARN OWL' 'SHORT BILLED DOWITCHER' 'HARPY EAGLE'\n",
      " 'CRESTED NUTHATCH' 'BLACK BAZA' 'GILDED FLICKER' 'SRI LANKA BLUE MAGPIE'\n",
      " 'OYSTER CATCHER' 'WHITE NECKED RAVEN' 'NORTHERN CARDINAL'\n",
      " 'VULTURINE GUINEAFOWL' 'VERMILION FLYCATHER' 'SPANGLED COTINGA'\n",
      " 'STRIPED OWL' 'HOODED MERGANSER' 'BLONDE CRESTED WOODPECKER'\n",
      " 'BUSH TURKEY' 'IVORY GULL' 'D-ARNAUDS BARBET' 'ALBERTS TOWHEE'\n",
      " 'CACTUS WREN' 'NORTHERN MOCKINGBIRD' 'FAIRY BLUEBIRD' 'MASKED LAPWING'\n",
      " 'GANG GANG COCKATOO' 'MALACHITE KINGFISHER' 'RED TAILED THRUSH'\n",
      " 'WHITE THROATED BEE EATER' 'APAPANE' 'RED WISKERED BULBUL'\n",
      " 'RED TAILED HAWK' 'COMMON LOON' 'ORANGE BRESTED BUNTING' 'PINK ROBIN'\n",
      " 'INDIAN ROLLER' 'JANDAYA PARAKEET' 'SCARLET IBIS' 'BLACK TAIL CRAKE'\n",
      " 'BANDED PITA' 'BLACK THROATED WARBLER' 'IWI' 'CALIFORNIA QUAIL'\n",
      " 'ALTAMIRA YELLOWTHROAT' 'BRANDT CORMARANT' 'LAZULI BUNTING'\n",
      " 'PHILIPPINE EAGLE' 'MIKADO  PHEASANT' 'FAIRY TERN' 'ANDEAN GOOSE'\n",
      " 'PARADISE TANAGER' 'VARIED THRUSH' 'DARK EYED JUNCO'\n",
      " 'DOUBLE BARRED FINCH' 'EASTERN ROSELLA' 'GAMBELS QUAIL'\n",
      " 'RED BEARDED BEE EATER' 'GREY PLOVER' 'DEMOISELLE CRANE' 'GO AWAY BIRD'\n",
      " 'MANGROVE CUCKOO' 'ELLIOTS  PHEASANT' 'WHITE BROWED CRAKE'\n",
      " 'GOLD WING WARBLER' 'DUSKY LORY' 'CASPIAN TERN' 'CROW' 'RAINBOW LORIKEET'\n",
      " 'PURPLE GALLINULE' 'AMERICAN AVOCET' 'ORIENTAL BAY OWL' 'KAGU'\n",
      " 'HARLEQUIN QUAIL' 'COMMON POORWILL' 'RUDY KINGFISHER' 'ANIANIAU'\n",
      " 'FLAME TANAGER' 'BORNEAN PHEASANT' 'COCKATOO' 'GREAT GRAY OWL'\n",
      " 'PEREGRINE FALCON' 'NORTHERN JACANA' 'BLACK THROATED BUSHTIT'\n",
      " 'CROWNED PIGEON' 'DOWNY WOODPECKER' 'BEARDED BELLBIRD' 'NORTHERN PARULA'\n",
      " 'GOULDIAN FINCH' 'GREEN JAY' 'BLUE COAU' 'SPOONBILL'\n",
      " 'CINNAMON FLYCATCHER' 'PYGMY KINGFISHER' 'LONG-EARED OWL'\n",
      " 'DOUBLE EYED FIG PARROT' 'OKINAWA RAIL' 'HOUSE FINCH' 'GREEN BROADBILL'\n",
      " 'GREATOR SAGE GROUSE' 'ROSY FACED LOVEBIRD' 'WALL CREAPER'\n",
      " 'COCK OF THE  ROCK' 'CHUCAO TAPACULO' 'CRESTED OROPENDOLA'\n",
      " 'ROUGH LEG BUZZARD' 'PURPLE MARTIN' 'HAWAIIAN GOOSE' 'NORTHERN FLICKER'\n",
      " 'MYNA' 'WHIMBREL' 'BAIKAL TEAL' 'SMITHS LONGSPUR' 'AMETHYST WOODSTAR'\n",
      " 'ANDEAN LAPWING' 'AFRICAN CROWNED CRANE' 'HOUSE SPARROW' 'WILD TURKEY'\n",
      " 'VIOLET TURACO' 'RAZORBILL' 'HORNBILL' 'REGENT BOWERBIRD' 'OSPREY'\n",
      " 'ROCK DOVE' 'VICTORIA CROWNED PIGEON' 'CINNAMON TEAL' 'SATYR TRAGOPAN'\n",
      " 'BROWN CREPPER' 'BLUE GROUSE' 'COLLARED ARACARI' 'LITTLE AUK' 'PEACOCK'\n",
      " 'MALABAR HORNBILL' 'WATTLED CURASSOW' 'BLACK FRANCOLIN' 'COMMON STARLING'\n",
      " 'TIT MOUSE' 'BANDED BROADBILL' 'SWINHOES PHEASANT' 'GRAY CATBIRD'\n",
      " 'AVADAVAT' 'WOOD DUCK' 'CAPE ROCK THRUSH' 'AMERICAN GOLDFINCH'\n",
      " 'CERULEAN WARBLER' 'ANHINGA' 'CRAB PLOVER' 'BLUE THROATED TOUCANET'\n",
      " 'BLACK SWAN' 'GREAT KISKADEE' 'BLACK COCKATO' 'RED BROWED FINCH'\n",
      " 'SAND MARTIN' 'TASMANIAN HEN' 'CRANE HAWK' 'CHUKAR PARTRIDGE' 'FRIGATE'\n",
      " 'CAPPED HERON' 'TURKEY VULTURE' 'CRESTED FIREBACK' 'JACK SNIPE'\n",
      " 'LARK BUNTING' 'RED HEADED WOODPECKER' 'RED FACED CORMORANT'\n",
      " 'PATAGONIAN SIERRA FINCH' 'FLAME BOWERBIRD' 'PAINTED BUNTING'\n",
      " 'BLACK-THROATED SPARROW' 'CRESTED KINGFISHER' 'CUBAN TODY' 'GREEN MAGPIE'\n",
      " 'INLAND DOTTEREL' 'DOUBLE BRESTED CORMARANT' 'ANTILLEAN EUPHONIA'\n",
      " 'HARLEQUIN DUCK' 'ANTBIRD' 'EASTERN GOLDEN WEAVER' 'ANDEAN SISKIN'\n",
      " 'STEAMER DUCK' 'GOLDEN EAGLE' 'LILAC ROLLER' 'CALIFORNIA CONDOR'\n",
      " 'POMARINE JAEGER' 'INCA TERN' 'AMERICAN KESTREL' 'SCARLET TANAGER'\n",
      " 'GRAY PARTRIDGE' 'CRIMSON SUNBIRD' 'GRAY KINGBIRD' 'IBISBILL'\n",
      " 'FIRE TAILLED MYZORNIS' 'JAPANESE ROBIN' 'CUBAN TROGON' 'JAVA SPARROW'\n",
      " 'OCELLATED TURKEY' 'HORNED GUAN' 'CLARKS NUTCRACKER' 'CINNAMON ATTILA'\n",
      " 'QUETZAL' 'NICOBAR PIGEON' 'BLACK & YELLOW  BROADBILL' 'BEARDED BARBET'\n",
      " 'STRIPPED SWALLOW' 'CRIMSON CHAT' 'YELLOW HEADED BLACKBIRD'\n",
      " 'ASIAN CRESTED IBIS' 'AZURE TANAGER' 'MASKED BOOBY' 'HIMALAYAN BLUETAIL'\n",
      " 'ROYAL FLYCATCHER' 'SCARLET CROWNED FRUIT DOVE' 'BAY-BREASTED WARBLER'\n",
      " 'TOUCHAN' 'MANDRIN DUCK' 'KILLDEAR' 'GOLDEN CHLOROPHONIA'\n",
      " 'COMMON HOUSE MARTIN' 'HELMET VANGA' 'AFRICAN OYSTER CATCHER'\n",
      " 'RED NAPED TROGON' 'ALPINE CHOUGH' 'SCARLET MACAW' 'AMERICAN BITTERN'\n",
      " 'BOBOLINK' 'COMMON IORA' 'WILSONS BIRD OF PARADISE' 'ENGGANO MYNA'\n",
      " 'ELEGANT TROGON' 'GOLDEN PHEASANT' 'ABYSSINIAN GROUND HORNBILL'\n",
      " 'MALLARD DUCK' 'GOLDEN PIPIT' 'APOSTLEBIRD' 'AMERICAN PIPIT'\n",
      " 'CHIPPING SPARROW' 'CAPE LONGCLAW' 'PELICAN' 'NORTHERN GANNET'\n",
      " 'MALAGASY WHITE EYE' 'CRESTED AUKLET' 'CEDAR WAXWING' 'ALBATROSS'\n",
      " 'ABBOTTS BOOBY' 'BAR-TAILED GODWIT' 'INDIAN PITTA' 'BARN SWALLOW'\n",
      " 'COMMON GRACKLE' 'SPLENDID WREN' 'OSTRICH' 'CRESTED SHRIKETIT'\n",
      " 'WHITE CHEEKED TURACO' 'EURASIAN GOLDEN ORIOLE' 'SUPERB STARLING'\n",
      " 'RED HEADED DUCK' 'GREAT POTOO' 'BORNEAN LEAFBIRD' 'FLAMINGO'\n",
      " 'CAPE GLOSSY STARLING' 'INDIGO BUNTING' 'SNOWY EGRET' 'EMERALD TANAGER'\n",
      " 'TURQUOISE MOTMOT' 'SPOTTED CATBIRD' 'TROPICAL KINGBIRD'\n",
      " 'RING-NECKED PHEASANT' 'BAND TAILED GUAN' 'NORTHERN SHOVELER'\n",
      " 'SPOON BILED SANDPIPER' 'CHARA DE COLLAR' 'TEAL DUCK' 'AFRICAN FIREFINCH'\n",
      " 'EVENING GROSBEAK' 'MARABOU STORK' 'BANANAQUIT' 'ROBIN' 'BROWN NOODY'\n",
      " 'GUINEAFOWL' 'BEARDED REEDLING' 'MALEO' 'AZURE TIT' 'ROADRUNNER'\n",
      " 'MOURNING DOVE' 'TAILORBIRD' 'GURNEYS PITTA' 'KAKAPO'\n",
      " 'ALEXANDRINE PARAKEET' 'GILA WOODPECKER']\n"
     ]
    }
   ],
   "source": [
    "# Splitting the data starts here, we store the path to the training set into a variable for further referencing.\n",
    "\n",
    "train_path = './dataset/train'\n",
    "test_path = './dataset/test'\n",
    "valid_path = './dataset/valid'\n",
    "\n",
    "birds = np.array(list(os.listdir(train_path)))\n",
    "print(birds)"
   ]
  },
  {
   "cell_type": "code",
   "execution_count": 3,
   "metadata": {},
   "outputs": [],
   "source": [
    "# pick only 20 type of birds to train on\n",
    "nr_birds = 20\n",
    "\n",
    "np.random.shuffle(birds)\n",
    "# slicing the data\n",
    "birds = birds[:nr_birds]"
   ]
  },
  {
   "cell_type": "code",
   "execution_count": 4,
   "metadata": {
    "tags": []
   },
   "outputs": [
    {
     "name": "stdout",
     "output_type": "stream",
     "text": [
      "{0: 'WOOD DUCK', 1: 'BLACK BAZA', 2: 'LAZULI BUNTING', 3: 'LARK BUNTING', 4: 'ANTBIRD', 5: 'ASHY THRUSHBIRD', 6: 'ABBOTTS BABBLER', 7: 'NOISY FRIARBIRD', 8: 'BROWN NOODY', 9: 'JAPANESE ROBIN', 10: 'AMETHYST WOODSTAR', 11: 'IBISBILL', 12: 'WHIMBREL', 13: 'CHINESE POND HERON', 14: 'RAZORBILL', 15: 'CUBAN TROGON', 16: 'BLUE COAU', 17: 'HELMET VANGA', 18: 'MAGPIE GOOSE', 19: 'HAMMERKOP'}\n",
      "dict_values(['WOOD DUCK', 'BLACK BAZA', 'LAZULI BUNTING', 'LARK BUNTING', 'ANTBIRD', 'ASHY THRUSHBIRD', 'ABBOTTS BABBLER', 'NOISY FRIARBIRD', 'BROWN NOODY', 'JAPANESE ROBIN', 'AMETHYST WOODSTAR', 'IBISBILL', 'WHIMBREL', 'CHINESE POND HERON', 'RAZORBILL', 'CUBAN TROGON', 'BLUE COAU', 'HELMET VANGA', 'MAGPIE GOOSE', 'HAMMERKOP'])\n"
     ]
    }
   ],
   "source": [
    "idx_to_name = {i:x for (i,x) in enumerate(birds)}\n",
    "name_to_idx = {x:i for (i,x) in enumerate(birds)}\n",
    "print(idx_to_name)\n",
    "\n",
    "print(idx_to_name.values())"
   ]
  },
  {
   "cell_type": "code",
   "execution_count": 5,
   "metadata": {},
   "outputs": [],
   "source": [
    "# Function to store labels based on the folders.\n",
    "\n",
    "def get_data_labels(path, birds, dimensions):\n",
    "    data = []\n",
    "    labels = []\n",
    "\n",
    "    for bird in birds:\n",
    "        imgs = [cv2.resize(cv2.imread(img), dimensions, interpolation=cv2.INTER_AREA) for img in glob.glob(path + \"/\" + bird + \"/*.jpg\")]\n",
    "        for img in imgs:\n",
    "            data.append(img)\n",
    "            labels.append(name_to_idx[bird])\n",
    "            \n",
    "    return np.array(data), np.array(labels)"
   ]
  },
  {
   "cell_type": "code",
   "execution_count": 6,
   "metadata": {},
   "outputs": [
    {
     "name": "stdout",
     "output_type": "stream",
     "text": [
      "(2962, 224, 224, 3)\n"
     ]
    }
   ],
   "source": [
    "data_train, labels_train = get_data_labels(train_path, idx_to_name.values(), (224,224))\n",
    "data_test, labels_test = get_data_labels(test_path, idx_to_name.values(), (224,224))\n",
    "data_valid, labels_valid = get_data_labels(valid_path, idx_to_name.values(), (224,224))\n",
    "\n",
    "print(data_train.shape)"
   ]
  },
  {
   "cell_type": "code",
   "execution_count": 7,
   "metadata": {},
   "outputs": [],
   "source": [
    "def normalize(data):\n",
    "    data = data / 255.0\n",
    "    data = data.astype('float32')\n",
    "    return data\n",
    "\n",
    "def one_hot(labels):\n",
    "    labels = np.eye(len(np.unique(labels)))[labels]\n",
    "    return labels"
   ]
  },
  {
   "cell_type": "code",
   "execution_count": 8,
   "metadata": {},
   "outputs": [],
   "source": [
    "data_train = normalize(data_train)\n",
    "data_test = normalize(data_test)\n",
    "data_valid = normalize(data_valid)\n",
    "\n",
    "labels_train = one_hot(labels_train)\n",
    "labels_test = one_hot(labels_test)\n",
    "labels_valid = one_hot(labels_valid)"
   ]
  },
  {
   "cell_type": "markdown",
   "metadata": {},
   "source": [
    "# Architecture"
   ]
  },
  {
   "cell_type": "markdown",
   "metadata": {},
   "source": [
    "# Implementation"
   ]
  },
  {
   "cell_type": "code",
   "execution_count": 9,
   "metadata": {
    "tags": []
   },
   "outputs": [
    {
     "name": "stdout",
     "output_type": "stream",
     "text": [
      "Metal device set to: Apple M1\n",
      "Model: \"vgg16\"\n",
      "_________________________________________________________________\n",
      " Layer (type)                Output Shape              Param #   \n",
      "=================================================================\n",
      " input_1 (InputLayer)        [(None, 224, 224, 3)]     0         \n",
      "                                                                 \n",
      " block1_conv1 (Conv2D)       (None, 224, 224, 64)      1792      \n",
      "                                                                 \n",
      " block1_conv2 (Conv2D)       (None, 224, 224, 64)      36928     \n",
      "                                                                 \n",
      " block1_pool (MaxPooling2D)  (None, 112, 112, 64)      0         \n",
      "                                                                 \n",
      " block2_conv1 (Conv2D)       (None, 112, 112, 128)     73856     \n",
      "                                                                 \n",
      " block2_conv2 (Conv2D)       (None, 112, 112, 128)     147584    \n",
      "                                                                 \n",
      " block2_pool (MaxPooling2D)  (None, 56, 56, 128)       0         \n",
      "                                                                 \n",
      " block3_conv1 (Conv2D)       (None, 56, 56, 256)       295168    \n",
      "                                                                 \n",
      " block3_conv2 (Conv2D)       (None, 56, 56, 256)       590080    \n",
      "                                                                 \n",
      " block3_conv3 (Conv2D)       (None, 56, 56, 256)       590080    \n",
      "                                                                 \n",
      " block3_pool (MaxPooling2D)  (None, 28, 28, 256)       0         \n",
      "                                                                 \n",
      " block4_conv1 (Conv2D)       (None, 28, 28, 512)       1180160   \n",
      "                                                                 \n",
      " block4_conv2 (Conv2D)       (None, 28, 28, 512)       2359808   \n",
      "                                                                 \n",
      " block4_conv3 (Conv2D)       (None, 28, 28, 512)       2359808   \n",
      "                                                                 \n",
      " block4_pool (MaxPooling2D)  (None, 14, 14, 512)       0         \n",
      "                                                                 \n",
      " block5_conv1 (Conv2D)       (None, 14, 14, 512)       2359808   \n",
      "                                                                 \n",
      " block5_conv2 (Conv2D)       (None, 14, 14, 512)       2359808   \n",
      "                                                                 \n",
      " block5_conv3 (Conv2D)       (None, 14, 14, 512)       2359808   \n",
      "                                                                 \n",
      " block5_pool (MaxPooling2D)  (None, 7, 7, 512)         0         \n",
      "                                                                 \n",
      "=================================================================\n",
      "Total params: 14,714,688\n",
      "Trainable params: 14,714,688\n",
      "Non-trainable params: 0\n",
      "_________________________________________________________________\n"
     ]
    },
    {
     "name": "stderr",
     "output_type": "stream",
     "text": [
      "2022-05-01 00:52:58.245114: I tensorflow/core/common_runtime/pluggable_device/pluggable_device_factory.cc:305] Could not identify NUMA node of platform GPU ID 0, defaulting to 0. Your kernel may not have been built with NUMA support.\n",
      "2022-05-01 00:52:58.245919: I tensorflow/core/common_runtime/pluggable_device/pluggable_device_factory.cc:271] Created TensorFlow device (/job:localhost/replica:0/task:0/device:GPU:0 with 0 MB memory) -> physical PluggableDevice (device: 0, name: METAL, pci bus id: <undefined>)\n"
     ]
    }
   ],
   "source": [
    "weights_path = \"./dataset/pre-trained/vgg16_weights_tf_dim_ordering_tf_kernels_notop.h5\"\n",
    "base_model = VGG16(weights=weights_path, include_top=False, input_shape=(224, 224, 3))\n",
    "base_model.summary()"
   ]
  },
  {
   "cell_type": "code",
   "execution_count": 10,
   "metadata": {
    "tags": []
   },
   "outputs": [
    {
     "name": "stdout",
     "output_type": "stream",
     "text": [
      "Model: \"vgg16\"\n",
      "_________________________________________________________________\n",
      " Layer (type)                Output Shape              Param #   \n",
      "=================================================================\n",
      " input_1 (InputLayer)        [(None, 224, 224, 3)]     0         \n",
      "                                                                 \n",
      " block1_conv1 (Conv2D)       (None, 224, 224, 64)      1792      \n",
      "                                                                 \n",
      " block1_conv2 (Conv2D)       (None, 224, 224, 64)      36928     \n",
      "                                                                 \n",
      " block1_pool (MaxPooling2D)  (None, 112, 112, 64)      0         \n",
      "                                                                 \n",
      " block2_conv1 (Conv2D)       (None, 112, 112, 128)     73856     \n",
      "                                                                 \n",
      " block2_conv2 (Conv2D)       (None, 112, 112, 128)     147584    \n",
      "                                                                 \n",
      " block2_pool (MaxPooling2D)  (None, 56, 56, 128)       0         \n",
      "                                                                 \n",
      " block3_conv1 (Conv2D)       (None, 56, 56, 256)       295168    \n",
      "                                                                 \n",
      " block3_conv2 (Conv2D)       (None, 56, 56, 256)       590080    \n",
      "                                                                 \n",
      " block3_conv3 (Conv2D)       (None, 56, 56, 256)       590080    \n",
      "                                                                 \n",
      " block3_pool (MaxPooling2D)  (None, 28, 28, 256)       0         \n",
      "                                                                 \n",
      " block4_conv1 (Conv2D)       (None, 28, 28, 512)       1180160   \n",
      "                                                                 \n",
      " block4_conv2 (Conv2D)       (None, 28, 28, 512)       2359808   \n",
      "                                                                 \n",
      " block4_conv3 (Conv2D)       (None, 28, 28, 512)       2359808   \n",
      "                                                                 \n",
      " block4_pool (MaxPooling2D)  (None, 14, 14, 512)       0         \n",
      "                                                                 \n",
      " block5_conv1 (Conv2D)       (None, 14, 14, 512)       2359808   \n",
      "                                                                 \n",
      " block5_conv2 (Conv2D)       (None, 14, 14, 512)       2359808   \n",
      "                                                                 \n",
      " block5_conv3 (Conv2D)       (None, 14, 14, 512)       2359808   \n",
      "                                                                 \n",
      " block5_pool (MaxPooling2D)  (None, 7, 7, 512)         0         \n",
      "                                                                 \n",
      "=================================================================\n",
      "Total params: 14,714,688\n",
      "Trainable params: 0\n",
      "Non-trainable params: 14,714,688\n",
      "_________________________________________________________________\n"
     ]
    }
   ],
   "source": [
    "# Freezing the weights\n",
    "for layer in base_model.layers:\n",
    "    layer.trainable = False\n",
    " \n",
    "base_model.summary()"
   ]
  },
  {
   "cell_type": "code",
   "execution_count": 11,
   "metadata": {},
   "outputs": [],
   "source": [
    "from tensorflow.keras.layers import Dense, Flatten\n",
    "from tensorflow.keras.models import Model\n",
    " \n",
    "# use “get_layer” method to save the last layer of the network\n",
    "last_layer = base_model.get_layer('block5_pool')\n",
    "# save the output of the last layer to be the input of the next layer\n",
    "last_output = last_layer.output\n",
    " \n",
    "# flatten the classifier input which is output of the last layer of VGG16 model\n",
    "x = Flatten()(last_output)\n",
    " \n",
    "# add our new softmax layer with 3 hidden units\n",
    "x = Dense(nr_birds, activation='softmax', name='softmax')(x)"
   ]
  },
  {
   "cell_type": "code",
   "execution_count": 12,
   "metadata": {
    "tags": []
   },
   "outputs": [
    {
     "name": "stdout",
     "output_type": "stream",
     "text": [
      "Model: \"model\"\n",
      "_________________________________________________________________\n",
      " Layer (type)                Output Shape              Param #   \n",
      "=================================================================\n",
      " input_1 (InputLayer)        [(None, 224, 224, 3)]     0         \n",
      "                                                                 \n",
      " block1_conv1 (Conv2D)       (None, 224, 224, 64)      1792      \n",
      "                                                                 \n",
      " block1_conv2 (Conv2D)       (None, 224, 224, 64)      36928     \n",
      "                                                                 \n",
      " block1_pool (MaxPooling2D)  (None, 112, 112, 64)      0         \n",
      "                                                                 \n",
      " block2_conv1 (Conv2D)       (None, 112, 112, 128)     73856     \n",
      "                                                                 \n",
      " block2_conv2 (Conv2D)       (None, 112, 112, 128)     147584    \n",
      "                                                                 \n",
      " block2_pool (MaxPooling2D)  (None, 56, 56, 128)       0         \n",
      "                                                                 \n",
      " block3_conv1 (Conv2D)       (None, 56, 56, 256)       295168    \n",
      "                                                                 \n",
      " block3_conv2 (Conv2D)       (None, 56, 56, 256)       590080    \n",
      "                                                                 \n",
      " block3_conv3 (Conv2D)       (None, 56, 56, 256)       590080    \n",
      "                                                                 \n",
      " block3_pool (MaxPooling2D)  (None, 28, 28, 256)       0         \n",
      "                                                                 \n",
      " block4_conv1 (Conv2D)       (None, 28, 28, 512)       1180160   \n",
      "                                                                 \n",
      " block4_conv2 (Conv2D)       (None, 28, 28, 512)       2359808   \n",
      "                                                                 \n",
      " block4_conv3 (Conv2D)       (None, 28, 28, 512)       2359808   \n",
      "                                                                 \n",
      " block4_pool (MaxPooling2D)  (None, 14, 14, 512)       0         \n",
      "                                                                 \n",
      " block5_conv1 (Conv2D)       (None, 14, 14, 512)       2359808   \n",
      "                                                                 \n",
      " block5_conv2 (Conv2D)       (None, 14, 14, 512)       2359808   \n",
      "                                                                 \n",
      " block5_conv3 (Conv2D)       (None, 14, 14, 512)       2359808   \n",
      "                                                                 \n",
      " block5_pool (MaxPooling2D)  (None, 7, 7, 512)         0         \n",
      "                                                                 \n",
      " flatten (Flatten)           (None, 25088)             0         \n",
      "                                                                 \n",
      " softmax (Dense)             (None, 20)                501780    \n",
      "                                                                 \n",
      "=================================================================\n",
      "Total params: 15,216,468\n",
      "Trainable params: 501,780\n",
      "Non-trainable params: 14,714,688\n",
      "_________________________________________________________________\n"
     ]
    }
   ],
   "source": [
    "# instantiate a new_model using keras’s Model class\n",
    "new_model = Model(inputs=base_model.input, outputs=x)\n",
    " \n",
    "# print the new_model summary\n",
    "new_model.summary()"
   ]
  },
  {
   "cell_type": "code",
   "execution_count": 13,
   "metadata": {},
   "outputs": [],
   "source": [
    "new_model.compile(Adam(learning_rate=0.0001), loss='categorical_crossentropy', metrics=['accuracy'])"
   ]
  },
  {
   "cell_type": "code",
   "execution_count": 14,
   "metadata": {
    "scrolled": true,
    "tags": []
   },
   "outputs": [
    {
     "name": "stdout",
     "output_type": "stream",
     "text": [
      "2962\n"
     ]
    },
    {
     "name": "stderr",
     "output_type": "stream",
     "text": [
      "2022-05-01 00:53:00.632988: W tensorflow/core/platform/profile_utils/cpu_utils.cc:128] Failed to get CPU frequency: 0 Hz\n"
     ]
    },
    {
     "name": "stdout",
     "output_type": "stream",
     "text": [
      "Epoch 1/10\n"
     ]
    },
    {
     "name": "stderr",
     "output_type": "stream",
     "text": [
      "2022-05-01 00:53:01.495755: I tensorflow/core/grappler/optimizers/custom_graph_optimizer_registry.cc:113] Plugin optimizer for device_type GPU is enabled.\n"
     ]
    },
    {
     "name": "stdout",
     "output_type": "stream",
     "text": [
      "2962/2962 [==============================] - ETA: 0s - loss: 1.2093 - accuracy: 0.6455"
     ]
    },
    {
     "name": "stderr",
     "output_type": "stream",
     "text": [
      "2022-05-01 00:55:09.339447: I tensorflow/core/grappler/optimizers/custom_graph_optimizer_registry.cc:113] Plugin optimizer for device_type GPU is enabled.\n"
     ]
    },
    {
     "name": "stdout",
     "output_type": "stream",
     "text": [
      "2962/2962 [==============================] - 133s 45ms/step - loss: 1.2093 - accuracy: 0.6455 - val_loss: 0.4815 - val_accuracy: 0.8800\n",
      "Epoch 2/10\n",
      "2962/2962 [==============================] - 150s 51ms/step - loss: 0.2287 - accuracy: 0.9494 - val_loss: 0.2818 - val_accuracy: 0.9000\n",
      "Epoch 3/10\n",
      "2962/2962 [==============================] - 153s 52ms/step - loss: 0.0758 - accuracy: 0.9895 - val_loss: 0.2432 - val_accuracy: 0.9300\n",
      "Epoch 4/10\n",
      "2962/2962 [==============================] - 153s 51ms/step - loss: 0.0283 - accuracy: 0.9966 - val_loss: 0.1735 - val_accuracy: 0.9300\n",
      "Epoch 5/10\n",
      "2962/2962 [==============================] - 156s 53ms/step - loss: 0.0112 - accuracy: 0.9990 - val_loss: 0.3150 - val_accuracy: 0.9300\n",
      "Epoch 6/10\n",
      "2962/2962 [==============================] - 156s 53ms/step - loss: 0.0093 - accuracy: 0.9980 - val_loss: 0.2014 - val_accuracy: 0.9200\n",
      "Epoch 7/10\n",
      "2962/2962 [==============================] - 157s 53ms/step - loss: 0.0020 - accuracy: 1.0000 - val_loss: 0.2830 - val_accuracy: 0.9100\n",
      "Epoch 8/10\n",
      "2962/2962 [==============================] - 158s 53ms/step - loss: 0.0075 - accuracy: 0.9983 - val_loss: 0.1613 - val_accuracy: 0.9400\n",
      "Epoch 9/10\n",
      "2962/2962 [==============================] - 149s 50ms/step - loss: 4.2029e-04 - accuracy: 1.0000 - val_loss: 0.2106 - val_accuracy: 0.9400\n",
      "Epoch 10/10\n",
      "2962/2962 [==============================] - 146s 49ms/step - loss: 7.2948e-04 - accuracy: 0.9997 - val_loss: 0.2168 - val_accuracy: 0.9200\n"
     ]
    }
   ],
   "source": [
    "print(len(data_train))\n",
    "checkpointer = ModelCheckpoint(filepath='birds.model.hdf5', save_best_only=True)\n",
    " \n",
    "history = new_model.fit(data_train, labels_train, steps_per_epoch=len(data_train),\n",
    "validation_data=(data_test, labels_test), validation_steps=3, epochs=10, verbose=1, callbacks=[checkpointer])"
   ]
  },
  {
   "cell_type": "code",
   "execution_count": 15,
   "metadata": {},
   "outputs": [],
   "source": [
    "# Analyze Training Data"
   ]
  },
  {
   "cell_type": "code",
   "execution_count": 16,
   "metadata": {},
   "outputs": [
    {
     "data": {
      "image/png": "[encoded data removed]",
      "text/plain": [
       "<Figure size 432x288 with 1 Axes>"
      ]
     },
     "metadata": {
      "needs_background": "light"
     },
     "output_type": "display_data"
    }
   ],
   "source": [
    "plt.plot(history.history['val_accuracy'], 'b')\n",
    "plt.plot(history.history['val_loss'], 'r')\n",
    "plt.show()"
   ]
  },
  {
   "cell_type": "code",
   "execution_count": 17,
   "metadata": {},
   "outputs": [],
   "source": [
    "def get_accuracy(model, data_valid, labels_valid):\n",
    "    predictions = model(data_valid)\n",
    "    wrong = 0\n",
    "    for i, pred in enumerate(predictions):\n",
    "        if( np.argmax(pred) !=  np.argmax(labels_valid[i])):\n",
    "            wrong += 1\n",
    "    return (len(data_valid) - wrong) / len(data_valid)"
   ]
  },
  {
   "cell_type": "code",
   "execution_count": 18,
   "metadata": {
    "scrolled": true,
    "tags": []
   },
   "outputs": [
    {
     "name": "stdout",
     "output_type": "stream",
     "text": [
      "Accuracy: 0.92\n"
     ]
    }
   ],
   "source": [
    "# we use the validation data to verify the accuracy\n",
    "accuracy = get_accuracy(new_model, data_valid, labels_valid)\n",
    "print(\"Accuracy:\", accuracy)"
   ]
  },
  {
   "cell_type": "code",
   "execution_count": 19,
   "metadata": {},
   "outputs": [
    {
     "name": "stderr",
     "output_type": "stream",
     "text": [
      "2022-05-01 01:18:17.948530: W tensorflow/python/util/util.cc:368] Sets are not currently considered sequences, but this may change in the future, so consider avoiding using them.\n"
     ]
    },
    {
     "name": "stdout",
     "output_type": "stream",
     "text": [
      "INFO:tensorflow:Assets written to: birds-trained-model/assets\n"
     ]
    }
   ],
   "source": [
    "new_model.save('birds-trained-model')"
   ]
  },
  {
   "cell_type": "markdown",
   "metadata": {},
   "source": [
    "# Resources"
   ]
  },
  {
   "cell_type": "markdown",
   "metadata": {},
   "source": [
    "Architectures images from [Deep Learning for Vision Systems Book](https://www.manning.com/books/deep-learning-for-vision-systems)"
   ]
  }
 ],
 "metadata": {
  "interpreter": {
   "hash": "f50f518e30a1733e8e8c8b608de131219c9974acb0d02ce13c65eb2a815a608c"
  },
  "kernelspec": {
   "display_name": "Python 3 (ipykernel)",
   "language": "python",
   "name": "python3"
  },
  "language_info": {
   "codemirror_mode": {
    "name": "ipython",
    "version": 3
   },
   "file_extension": ".py",
   "mimetype": "text/x-python",
   "name": "python",
   "nbconvert_exporter": "python",
   "pygments_lexer": "ipython3",
   "version": "3.9.10"
  }
 },
 "nbformat": 4,
 "nbformat_minor": 2
}
